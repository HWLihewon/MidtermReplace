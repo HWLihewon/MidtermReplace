{
  "nbformat": 4,
  "nbformat_minor": 0,
  "metadata": {
    "colab": {
      "provenance": [],
      "authorship_tag": "ABX9TyMOBwqfyUpLrUD6t2VmDNvp",
      "include_colab_link": true
    },
    "kernelspec": {
      "name": "python3",
      "display_name": "Python 3"
    },
    "language_info": {
      "name": "python"
    }
  },
  "cells": [
    {
      "cell_type": "markdown",
      "metadata": {
        "id": "view-in-github",
        "colab_type": "text"
      },
      "source": [
        "<a href=\"https://colab.research.google.com/github/HWLihewon/MidtermReplace/blob/main/Week11_%ED%98%95%ED%83%9C%EC%86%8C%EB%B6%84%EC%84%9D20191294_%ED%99%A9%ED%9D%AC%EC%9B%90.ipynb\" target=\"_parent\"><img src=\"https://colab.research.google.com/assets/colab-badge.svg\" alt=\"Open In Colab\"/></a>"
      ]
    },
    {
      "cell_type": "code",
      "execution_count": null,
      "metadata": {
        "id": "tcR77SXttC-T"
      },
      "outputs": [],
      "source": [
        "!curl -s https://raw.githubusercontent.com/teddylee777/machine-learning/master/99-Misc/01-Colab/mecab-colab.sh | bash"
      ]
    },
    {
      "cell_type": "markdown",
      "source": [
        "11주차 수업 내용 및 과제 형태소 분석\n"
      ],
      "metadata": {
        "id": "jd_JIJK3G70U"
      }
    },
    {
      "cell_type": "code",
      "source": [
        "from konlpy.tag import Okt, Mecab\n",
        "\n",
        "okt = Okt()\n",
        "okt.morphs('방탄복이 총알을 막아내는 것처럼, 살아가는 동안 힘든 일을 겪는 10대, 20대가 겪는 힘든 일과 편견을 막아내고 자신들의 음악적 가치를 당당히 지켜내겠다는 의미를 담고 있다.')\n",
        "\n"
      ],
      "metadata": {
        "colab": {
          "base_uri": "https://localhost:8080/"
        },
        "id": "VNaFiUENtHCh",
        "outputId": "15b053c4-22b2-4d13-ba33-217b432ff4b1"
      },
      "execution_count": 40,
      "outputs": [
        {
          "output_type": "execute_result",
          "data": {
            "text/plain": [
              "['방탄복',\n",
              " '이',\n",
              " '총알',\n",
              " '을',\n",
              " '막아내는',\n",
              " '것',\n",
              " '처럼',\n",
              " ',',\n",
              " '살아가는',\n",
              " '동안',\n",
              " '힘든',\n",
              " '일',\n",
              " '을',\n",
              " '겪는',\n",
              " '10',\n",
              " '대',\n",
              " ',',\n",
              " '20',\n",
              " '대가',\n",
              " '겪는',\n",
              " '힘든',\n",
              " '일과',\n",
              " '편견',\n",
              " '을',\n",
              " '막아내고',\n",
              " '자신',\n",
              " '들',\n",
              " '의',\n",
              " '음악',\n",
              " '적',\n",
              " '가치',\n",
              " '를',\n",
              " '당당히',\n",
              " '지켜내겠다는',\n",
              " '의미',\n",
              " '를',\n",
              " '담고',\n",
              " '있다',\n",
              " '.']"
            ]
          },
          "metadata": {},
          "execution_count": 40
        }
      ]
    },
    {
      "cell_type": "code",
      "source": [
        "import konlpy\n",
        "konlpy.__version__\n"
      ],
      "metadata": {
        "colab": {
          "base_uri": "https://localhost:8080/",
          "height": 36
        },
        "id": "pJkZpNZ7tHEx",
        "outputId": "4839376b-2a10-4b95-a7ed-b792c597de21"
      },
      "execution_count": null,
      "outputs": [
        {
          "output_type": "execute_result",
          "data": {
            "text/plain": [
              "'0.6.0'"
            ],
            "application/vnd.google.colaboratory.intrinsic+json": {
              "type": "string"
            }
          },
          "metadata": {},
          "execution_count": 4
        }
      ]
    },
    {
      "cell_type": "code",
      "source": [
        "from konlpy.tag import Hannanum, Kkma, Komoran\n",
        "\n",
        "#mecab, okt는 위에서 간략히 살펴봄\n",
        "hannanum = Hannanum()\n",
        "kkma = Kkma()\n",
        "komoran = Komoran()"
      ],
      "metadata": {
        "id": "uFuqfMOYtHL0"
      },
      "execution_count": 41,
      "outputs": []
    },
    {
      "cell_type": "markdown",
      "source": [
        "방탄 txt 파일 불러오기"
      ],
      "metadata": {
        "id": "FTybBcOtGdWo"
      }
    },
    {
      "cell_type": "code",
      "source": [
        "doc = open('/content/bts_korean.txt').read()\n",
        "print(doc[:100])\n",
        "ha_n = hannanum.nouns(doc[:100]) # 명사만 추출\n",
        "kk_n = kkma.nouns(doc[:100])\n",
        "ko_n = komoran.nouns(doc[:100]) \n",
        "\n",
        "print(ha_n)\n",
        "print(kk_n)\n",
        "print(ko_n)"
      ],
      "metadata": {
        "colab": {
          "base_uri": "https://localhost:8080/"
        },
        "id": "JjL_HJfnvZuT",
        "outputId": "095f1b12-7153-47ed-e552-0d2aabcfceb0"
      },
      "execution_count": 28,
      "outputs": [
        {
          "output_type": "stream",
          "name": "stdout",
          "text": [
            "\n",
            "방탄복이 총알을 막아내는 것처럼, 살아가는 동안 힘든 일을 겪는 10대, 20대가 겪는 힘든 일과 편견을 막아내고 자신들의 음악적 가치를 당당히 지켜내겠다는 의미를 담고 있다. \n",
            "['방탄복', '총알', '것', '동안', '일', '10대', '20대', '일', '편견', '자신들', '음악적', '가치', '의미']\n",
            "['방탄복', '총알', '동안', '일', '10', '10대', '대', '20', '20대', '편견', '자신', '음악적', '가치', '의미']\n",
            "['방탄복', '총알', '것', '동안', '일', '10대', '20대', '일', '편견', '자신', '음악', '가치', '의미']\n"
          ]
        }
      ]
    },
    {
      "cell_type": "code",
      "source": [
        "ha_m = hannanum.morphs(doc[:100]) #형태소만 추출\n",
        "kk_m = kkma.morphs(doc[:100])\n",
        "ko_m = komoran.morphs(doc[:100])\n",
        "\n",
        "print(ha_m)\n",
        "print(kk_m)\n",
        "print(ko_m)"
      ],
      "metadata": {
        "colab": {
          "base_uri": "https://localhost:8080/"
        },
        "id": "UeSdedltvZwr",
        "outputId": "8eda616b-5efe-45c0-e7b0-0c06c2de68e9"
      },
      "execution_count": 29,
      "outputs": [
        {
          "output_type": "stream",
          "name": "stdout",
          "text": [
            "['방탄복', '이', '총알', '을', '막', '아', '내', '는', '것', '처럼', ',', '살', '아', '가', '는', '동안', '힘들', 'ㄴ', '일', '을', '겪', '는', '10대', ',', '20대', '가', '겪', '는', '힘들', 'ㄴ', '일', '과', '편견', '을', '막', '아', '내', '고', '자신들', '의', '음악적', '가치', '를', '당당히', '지키', '어', '내', '겠다는', '의미', '를', '담', '고', '있', '다', '.']\n",
            "['방탄복', '이', '총알', '을', '막아내', '는', '것', '처럼', ',', '살아가', '는', '동안', '힘들', 'ㄴ', '일', '을', '겪', '는', '10', '대', ',', '20', '대', '가', '겪', '는', '힘들', 'ㄴ', '일', '과', '편견', '을', '막아내', '고', '자신', '들', '의', '음악적', '가치', '를', '당당히', '지키', '어', '내', '겠', '다는', '의미', '를', '담', '고', '있', '다', '.']\n",
            "['방탄복', '이', '총알', '을', '막', '아', '내', '는', '것', '처럼', ',', '살아가', '는', '동안', '힘들', 'ㄴ', '일', '을', '겪', '는', '10대', ',', '20대', '가', '겪', '는', '힘들', 'ㄴ', '일', '과', '편견', '을', '막', '아', '내', '고', '자신', '들', '의', '음악', '적', '가치', '를', '당당히', '지키', '어', '내', '겠', '다는', '의미', '를', '담', '고', '있', '다', '.']\n"
          ]
        }
      ]
    },
    {
      "cell_type": "code",
      "source": [
        "ha_pos = hannanum.pos(doc[:100])\n",
        "kk_pos = kkma.pos(doc[:100])\n",
        "ko_pos = komoran.pos(doc[:100])\n",
        "\n",
        "print(ha_pos)\n",
        "print(kk_pos)\n",
        "print(ko_pos)"
      ],
      "metadata": {
        "colab": {
          "base_uri": "https://localhost:8080/"
        },
        "id": "THf5EFFevZzE",
        "outputId": "8d8a571e-fbeb-40ec-e523-3af3225d9e46"
      },
      "execution_count": 30,
      "outputs": [
        {
          "output_type": "stream",
          "name": "stdout",
          "text": [
            "[('방탄복', 'N'), ('이', 'J'), ('총알', 'N'), ('을', 'J'), ('막', 'P'), ('아', 'E'), ('내', 'P'), ('는', 'E'), ('것', 'N'), ('처럼', 'J'), (',', 'S'), ('살', 'P'), ('아', 'E'), ('가', 'P'), ('는', 'E'), ('동안', 'N'), ('힘들', 'P'), ('ㄴ', 'E'), ('일', 'N'), ('을', 'J'), ('겪', 'P'), ('는', 'E'), ('10대', 'N'), (',', 'S'), ('20대', 'N'), ('가', 'J'), ('겪', 'P'), ('는', 'E'), ('힘들', 'P'), ('ㄴ', 'E'), ('일', 'N'), ('과', 'J'), ('편견', 'N'), ('을', 'J'), ('막', 'P'), ('아', 'E'), ('내', 'P'), ('고', 'E'), ('자신들', 'N'), ('의', 'J'), ('음악적', 'N'), ('가치', 'N'), ('를', 'J'), ('당당히', 'M'), ('지키', 'P'), ('어', 'E'), ('내', 'P'), ('겠다는', 'E'), ('의미', 'N'), ('를', 'J'), ('담', 'P'), ('고', 'E'), ('있', 'P'), ('다', 'E'), ('.', 'S')]\n",
            "[('방탄복', 'NNG'), ('이', 'JKS'), ('총알', 'NNG'), ('을', 'JKO'), ('막아내', 'VV'), ('는', 'ETD'), ('것', 'NNB'), ('처럼', 'JKM'), (',', 'SP'), ('살아가', 'VV'), ('는', 'ETD'), ('동안', 'NNG'), ('힘들', 'VA'), ('ㄴ', 'ETD'), ('일', 'NNG'), ('을', 'JKO'), ('겪', 'VV'), ('는', 'ETD'), ('10', 'NR'), ('대', 'NNM'), (',', 'SP'), ('20', 'NR'), ('대', 'NNM'), ('가', 'JKS'), ('겪', 'VV'), ('는', 'ETD'), ('힘들', 'VA'), ('ㄴ', 'ETD'), ('일', 'NNG'), ('과', 'JC'), ('편견', 'NNG'), ('을', 'JKO'), ('막아내', 'VV'), ('고', 'ECE'), ('자신', 'NNG'), ('들', 'XSN'), ('의', 'JKG'), ('음악적', 'NNG'), ('가치', 'NNG'), ('를', 'JKO'), ('당당히', 'MAG'), ('지키', 'VV'), ('어', 'ECS'), ('내', 'VXV'), ('겠', 'EPT'), ('다는', 'ETD'), ('의미', 'NNG'), ('를', 'JKO'), ('담', 'VV'), ('고', 'ECE'), ('있', 'VXV'), ('다', 'EFN'), ('.', 'SF')]\n",
            "[('방탄복', 'NNP'), ('이', 'JKS'), ('총알', 'NNG'), ('을', 'JKO'), ('막', 'VV'), ('아', 'EC'), ('내', 'VX'), ('는', 'ETM'), ('것', 'NNB'), ('처럼', 'JKB'), (',', 'SP'), ('살아가', 'VV'), ('는', 'ETM'), ('동안', 'NNG'), ('힘들', 'VA'), ('ㄴ', 'ETM'), ('일', 'NNG'), ('을', 'JKO'), ('겪', 'VV'), ('는', 'ETM'), ('10대', 'NNP'), (',', 'SP'), ('20대', 'NNP'), ('가', 'JKS'), ('겪', 'VV'), ('는', 'ETM'), ('힘들', 'VA'), ('ㄴ', 'ETM'), ('일', 'NNG'), ('과', 'JC'), ('편견', 'NNG'), ('을', 'JKO'), ('막', 'VV'), ('아', 'EC'), ('내', 'VX'), ('고', 'EC'), ('자신', 'NNG'), ('들', 'XSN'), ('의', 'JKG'), ('음악', 'NNG'), ('적', 'XSN'), ('가치', 'NNG'), ('를', 'JKO'), ('당당히', 'MAG'), ('지키', 'VV'), ('어', 'EC'), ('내', 'VX'), ('겠', 'EP'), ('다는', 'ETM'), ('의미', 'NNG'), ('를', 'JKO'), ('담', 'VV'), ('고', 'EC'), ('있', 'VX'), ('다', 'EF'), ('.', 'SF')]\n"
          ]
        }
      ]
    },
    {
      "cell_type": "code",
      "source": [
        "okt.tagset"
      ],
      "metadata": {
        "colab": {
          "base_uri": "https://localhost:8080/"
        },
        "id": "NaugEtUZvZ1k",
        "outputId": "f3d496b8-6dab-4235-9f2e-47b5190479ab"
      },
      "execution_count": 31,
      "outputs": [
        {
          "output_type": "execute_result",
          "data": {
            "text/plain": [
              "{'Adjective': '형용사',\n",
              " 'Adverb': '부사',\n",
              " 'Alpha': '알파벳',\n",
              " 'Conjunction': '접속사',\n",
              " 'Determiner': '관형사',\n",
              " 'Eomi': '어미',\n",
              " 'Exclamation': '감탄사',\n",
              " 'Foreign': '외국어, 한자 및 기타기호',\n",
              " 'Hashtag': '트위터 해쉬태그',\n",
              " 'Josa': '조사',\n",
              " 'KoreanParticle': '(ex: ㅋㅋ)',\n",
              " 'Noun': '명사',\n",
              " 'Number': '숫자',\n",
              " 'PreEomi': '선어말어미',\n",
              " 'Punctuation': '구두점',\n",
              " 'ScreenName': '트위터 아이디',\n",
              " 'Suffix': '접미사',\n",
              " 'Unknown': '미등록어',\n",
              " 'Verb': '동사'}"
            ]
          },
          "metadata": {},
          "execution_count": 31
        }
      ]
    },
    {
      "cell_type": "code",
      "source": [
        "hannanum.tagset\n"
      ],
      "metadata": {
        "colab": {
          "base_uri": "https://localhost:8080/"
        },
        "id": "h2jyG7k7vaLa",
        "outputId": "47e02152-5138-4c77-c15b-f7c651415b3b"
      },
      "execution_count": 32,
      "outputs": [
        {
          "output_type": "execute_result",
          "data": {
            "text/plain": [
              "{'E': '어미',\n",
              " 'EC': '연결 어미',\n",
              " 'EF': '종결 어미',\n",
              " 'EP': '선어말어미',\n",
              " 'ET': '전성 어미',\n",
              " 'F': '외국어',\n",
              " 'I': '독립언',\n",
              " 'II': '감탄사',\n",
              " 'J': '관계언',\n",
              " 'JC': '격조사',\n",
              " 'JP': '서술격 조사',\n",
              " 'JX': '보조사',\n",
              " 'M': '수식언',\n",
              " 'MA': '부사',\n",
              " 'MM': '관형사',\n",
              " 'N': '체언',\n",
              " 'NB': '의존명사',\n",
              " 'NC': '보통명사',\n",
              " 'NN': '수사',\n",
              " 'NP': '대명사',\n",
              " 'NQ': '고유명사',\n",
              " 'P': '용언',\n",
              " 'PA': '형용사',\n",
              " 'PV': '동사',\n",
              " 'PX': '보조 용언',\n",
              " 'S': '기호',\n",
              " 'X': '접사',\n",
              " 'XP': '접두사',\n",
              " 'XS': '접미사'}"
            ]
          },
          "metadata": {},
          "execution_count": 32
        }
      ]
    },
    {
      "cell_type": "code",
      "source": [
        "import pandas as pd\n",
        "\n",
        "tagsets = pd.DataFrame()\n",
        "\n",
        "N = 67\n",
        "tagsets[\"Hannanum-태그\"] = list(hannanum.tagset.keys()) + list(\"*\" * (N - len(hannanum.tagset)))\n",
        "tagsets[\"Hannanum-품사\"] = list(hannanum.tagset.values()) + list(\"*\" * (N - len(hannanum.tagset)))\n",
        "tagsets[\"Kkma-태그\"] = list(kkma.tagset.keys()) + list(\"*\" * (N - len(kkma.tagset)))\n",
        "tagsets[\"Kkma-품사\"] = list(kkma.tagset.values()) + list(\"*\" * (N - len(kkma.tagset)))\n",
        "tagsets[\"Komoran-태그\"] = list(komoran.tagset.keys()) + list(\"*\" * (N - len(komoran.tagset)))\n",
        "tagsets[\"Komoran-품사\"] = list(komoran.tagset.values()) + list(\"*\" * (N - len(komoran.tagset)))\n",
        "tagsets[\"OKT-태그\"] = list(okt.tagset.keys()) + list(\"*\" * (N - len(okt.tagset)))\n",
        "tagsets[\"OKT-품사\"] = list(okt.tagset.values()) + list(\"*\" * (N - len(okt.tagset)))\n",
        "tagsets"
      ],
      "metadata": {
        "colab": {
          "base_uri": "https://localhost:8080/",
          "height": 423
        },
        "id": "UD0cP3nDtHOQ",
        "outputId": "e0050c32-54e7-4ee2-b554-52535567ee7e"
      },
      "execution_count": 33,
      "outputs": [
        {
          "output_type": "execute_result",
          "data": {
            "text/plain": [
              "   Hannanum-태그 Hannanum-품사 Kkma-태그     Kkma-품사 Komoran-태그 Komoran-품사  \\\n",
              "0            E          어미      EC       연결 어미         EC      연결 어미   \n",
              "1           EC       연결 어미     ECD   의존적 연결 어미         EF      종결 어미   \n",
              "2           EF       종결 어미     ECE    대등 연결 어미         EP      선어말어미   \n",
              "3           EP       선어말어미     ECS   보조적 연결 어미        ETM  관형형 전성 어미   \n",
              "4           ET       전성 어미      EF       종결 어미        ETN  명사형 전성 어미   \n",
              "..         ...         ...     ...         ...        ...        ...   \n",
              "62           *           *     XPV      용언 접두사          *          *   \n",
              "63           *           *      XR          어근          *          *   \n",
              "64           *           *     XSA  형용사 파생 접미사          *          *   \n",
              "65           *           *     XSN    명사파생 접미사          *          *   \n",
              "66           *           *     XSV   동사 파생 접미사          *          *   \n",
              "\n",
              "         OKT-태그 OKT-품사  \n",
              "0     Adjective    형용사  \n",
              "1        Adverb     부사  \n",
              "2         Alpha    알파벳  \n",
              "3   Conjunction    접속사  \n",
              "4    Determiner    관형사  \n",
              "..          ...    ...  \n",
              "62            *      *  \n",
              "63            *      *  \n",
              "64            *      *  \n",
              "65            *      *  \n",
              "66            *      *  \n",
              "\n",
              "[67 rows x 8 columns]"
            ],
            "text/html": [
              "\n",
              "  <div id=\"df-cd48d05a-d3f0-44c2-b132-583bc12cd5f8\">\n",
              "    <div class=\"colab-df-container\">\n",
              "      <div>\n",
              "<style scoped>\n",
              "    .dataframe tbody tr th:only-of-type {\n",
              "        vertical-align: middle;\n",
              "    }\n",
              "\n",
              "    .dataframe tbody tr th {\n",
              "        vertical-align: top;\n",
              "    }\n",
              "\n",
              "    .dataframe thead th {\n",
              "        text-align: right;\n",
              "    }\n",
              "</style>\n",
              "<table border=\"1\" class=\"dataframe\">\n",
              "  <thead>\n",
              "    <tr style=\"text-align: right;\">\n",
              "      <th></th>\n",
              "      <th>Hannanum-태그</th>\n",
              "      <th>Hannanum-품사</th>\n",
              "      <th>Kkma-태그</th>\n",
              "      <th>Kkma-품사</th>\n",
              "      <th>Komoran-태그</th>\n",
              "      <th>Komoran-품사</th>\n",
              "      <th>OKT-태그</th>\n",
              "      <th>OKT-품사</th>\n",
              "    </tr>\n",
              "  </thead>\n",
              "  <tbody>\n",
              "    <tr>\n",
              "      <th>0</th>\n",
              "      <td>E</td>\n",
              "      <td>어미</td>\n",
              "      <td>EC</td>\n",
              "      <td>연결 어미</td>\n",
              "      <td>EC</td>\n",
              "      <td>연결 어미</td>\n",
              "      <td>Adjective</td>\n",
              "      <td>형용사</td>\n",
              "    </tr>\n",
              "    <tr>\n",
              "      <th>1</th>\n",
              "      <td>EC</td>\n",
              "      <td>연결 어미</td>\n",
              "      <td>ECD</td>\n",
              "      <td>의존적 연결 어미</td>\n",
              "      <td>EF</td>\n",
              "      <td>종결 어미</td>\n",
              "      <td>Adverb</td>\n",
              "      <td>부사</td>\n",
              "    </tr>\n",
              "    <tr>\n",
              "      <th>2</th>\n",
              "      <td>EF</td>\n",
              "      <td>종결 어미</td>\n",
              "      <td>ECE</td>\n",
              "      <td>대등 연결 어미</td>\n",
              "      <td>EP</td>\n",
              "      <td>선어말어미</td>\n",
              "      <td>Alpha</td>\n",
              "      <td>알파벳</td>\n",
              "    </tr>\n",
              "    <tr>\n",
              "      <th>3</th>\n",
              "      <td>EP</td>\n",
              "      <td>선어말어미</td>\n",
              "      <td>ECS</td>\n",
              "      <td>보조적 연결 어미</td>\n",
              "      <td>ETM</td>\n",
              "      <td>관형형 전성 어미</td>\n",
              "      <td>Conjunction</td>\n",
              "      <td>접속사</td>\n",
              "    </tr>\n",
              "    <tr>\n",
              "      <th>4</th>\n",
              "      <td>ET</td>\n",
              "      <td>전성 어미</td>\n",
              "      <td>EF</td>\n",
              "      <td>종결 어미</td>\n",
              "      <td>ETN</td>\n",
              "      <td>명사형 전성 어미</td>\n",
              "      <td>Determiner</td>\n",
              "      <td>관형사</td>\n",
              "    </tr>\n",
              "    <tr>\n",
              "      <th>...</th>\n",
              "      <td>...</td>\n",
              "      <td>...</td>\n",
              "      <td>...</td>\n",
              "      <td>...</td>\n",
              "      <td>...</td>\n",
              "      <td>...</td>\n",
              "      <td>...</td>\n",
              "      <td>...</td>\n",
              "    </tr>\n",
              "    <tr>\n",
              "      <th>62</th>\n",
              "      <td>*</td>\n",
              "      <td>*</td>\n",
              "      <td>XPV</td>\n",
              "      <td>용언 접두사</td>\n",
              "      <td>*</td>\n",
              "      <td>*</td>\n",
              "      <td>*</td>\n",
              "      <td>*</td>\n",
              "    </tr>\n",
              "    <tr>\n",
              "      <th>63</th>\n",
              "      <td>*</td>\n",
              "      <td>*</td>\n",
              "      <td>XR</td>\n",
              "      <td>어근</td>\n",
              "      <td>*</td>\n",
              "      <td>*</td>\n",
              "      <td>*</td>\n",
              "      <td>*</td>\n",
              "    </tr>\n",
              "    <tr>\n",
              "      <th>64</th>\n",
              "      <td>*</td>\n",
              "      <td>*</td>\n",
              "      <td>XSA</td>\n",
              "      <td>형용사 파생 접미사</td>\n",
              "      <td>*</td>\n",
              "      <td>*</td>\n",
              "      <td>*</td>\n",
              "      <td>*</td>\n",
              "    </tr>\n",
              "    <tr>\n",
              "      <th>65</th>\n",
              "      <td>*</td>\n",
              "      <td>*</td>\n",
              "      <td>XSN</td>\n",
              "      <td>명사파생 접미사</td>\n",
              "      <td>*</td>\n",
              "      <td>*</td>\n",
              "      <td>*</td>\n",
              "      <td>*</td>\n",
              "    </tr>\n",
              "    <tr>\n",
              "      <th>66</th>\n",
              "      <td>*</td>\n",
              "      <td>*</td>\n",
              "      <td>XSV</td>\n",
              "      <td>동사 파생 접미사</td>\n",
              "      <td>*</td>\n",
              "      <td>*</td>\n",
              "      <td>*</td>\n",
              "      <td>*</td>\n",
              "    </tr>\n",
              "  </tbody>\n",
              "</table>\n",
              "<p>67 rows × 8 columns</p>\n",
              "</div>\n",
              "      <button class=\"colab-df-convert\" onclick=\"convertToInteractive('df-cd48d05a-d3f0-44c2-b132-583bc12cd5f8')\"\n",
              "              title=\"Convert this dataframe to an interactive table.\"\n",
              "              style=\"display:none;\">\n",
              "        \n",
              "  <svg xmlns=\"http://www.w3.org/2000/svg\" height=\"24px\"viewBox=\"0 0 24 24\"\n",
              "       width=\"24px\">\n",
              "    <path d=\"M0 0h24v24H0V0z\" fill=\"none\"/>\n",
              "    <path d=\"M18.56 5.44l.94 2.06.94-2.06 2.06-.94-2.06-.94-.94-2.06-.94 2.06-2.06.94zm-11 1L8.5 8.5l.94-2.06 2.06-.94-2.06-.94L8.5 2.5l-.94 2.06-2.06.94zm10 10l.94 2.06.94-2.06 2.06-.94-2.06-.94-.94-2.06-.94 2.06-2.06.94z\"/><path d=\"M17.41 7.96l-1.37-1.37c-.4-.4-.92-.59-1.43-.59-.52 0-1.04.2-1.43.59L10.3 9.45l-7.72 7.72c-.78.78-.78 2.05 0 2.83L4 21.41c.39.39.9.59 1.41.59.51 0 1.02-.2 1.41-.59l7.78-7.78 2.81-2.81c.8-.78.8-2.07 0-2.86zM5.41 20L4 18.59l7.72-7.72 1.47 1.35L5.41 20z\"/>\n",
              "  </svg>\n",
              "      </button>\n",
              "      \n",
              "  <style>\n",
              "    .colab-df-container {\n",
              "      display:flex;\n",
              "      flex-wrap:wrap;\n",
              "      gap: 12px;\n",
              "    }\n",
              "\n",
              "    .colab-df-convert {\n",
              "      background-color: #E8F0FE;\n",
              "      border: none;\n",
              "      border-radius: 50%;\n",
              "      cursor: pointer;\n",
              "      display: none;\n",
              "      fill: #1967D2;\n",
              "      height: 32px;\n",
              "      padding: 0 0 0 0;\n",
              "      width: 32px;\n",
              "    }\n",
              "\n",
              "    .colab-df-convert:hover {\n",
              "      background-color: #E2EBFA;\n",
              "      box-shadow: 0px 1px 2px rgba(60, 64, 67, 0.3), 0px 1px 3px 1px rgba(60, 64, 67, 0.15);\n",
              "      fill: #174EA6;\n",
              "    }\n",
              "\n",
              "    [theme=dark] .colab-df-convert {\n",
              "      background-color: #3B4455;\n",
              "      fill: #D2E3FC;\n",
              "    }\n",
              "\n",
              "    [theme=dark] .colab-df-convert:hover {\n",
              "      background-color: #434B5C;\n",
              "      box-shadow: 0px 1px 3px 1px rgba(0, 0, 0, 0.15);\n",
              "      filter: drop-shadow(0px 1px 2px rgba(0, 0, 0, 0.3));\n",
              "      fill: #FFFFFF;\n",
              "    }\n",
              "  </style>\n",
              "\n",
              "      <script>\n",
              "        const buttonEl =\n",
              "          document.querySelector('#df-cd48d05a-d3f0-44c2-b132-583bc12cd5f8 button.colab-df-convert');\n",
              "        buttonEl.style.display =\n",
              "          google.colab.kernel.accessAllowed ? 'block' : 'none';\n",
              "\n",
              "        async function convertToInteractive(key) {\n",
              "          const element = document.querySelector('#df-cd48d05a-d3f0-44c2-b132-583bc12cd5f8');\n",
              "          const dataTable =\n",
              "            await google.colab.kernel.invokeFunction('convertToInteractive',\n",
              "                                                     [key], {});\n",
              "          if (!dataTable) return;\n",
              "\n",
              "          const docLinkHtml = 'Like what you see? Visit the ' +\n",
              "            '<a target=\"_blank\" href=https://colab.research.google.com/notebooks/data_table.ipynb>data table notebook</a>'\n",
              "            + ' to learn more about interactive tables.';\n",
              "          element.innerHTML = '';\n",
              "          dataTable['output_type'] = 'display_data';\n",
              "          await google.colab.output.renderOutput(dataTable, element);\n",
              "          const docLink = document.createElement('div');\n",
              "          docLink.innerHTML = docLinkHtml;\n",
              "          element.appendChild(docLink);\n",
              "        }\n",
              "      </script>\n",
              "    </div>\n",
              "  </div>\n",
              "  "
            ]
          },
          "metadata": {},
          "execution_count": 33
        }
      ]
    },
    {
      "cell_type": "code",
      "source": [
        "docs = doc.split('\\n')\n",
        "r = []\n",
        "for line in docs:\n",
        "    token = okt.morphs(line)\n",
        "    txt = \" \".join(token)\n",
        "    r.append(txt)\n",
        "\n",
        "from sklearn.feature_extraction.text import TfidfVectorizer\n",
        "\n",
        "#tfidf 벡터 메트릭스 생성\n",
        "tfidf = TfidfVectorizer()\n",
        "tfidf_matrix = tfidf.fit_transform(r)\n",
        "print('type of tfidf_matrix {}'.format(type(tfidf_matrix)))\n",
        "print('shape of tfidf_matrix {}'.format(tfidf_matrix.shape))\n",
        "#문장 81개 #사용된 단어는1817개"
      ],
      "metadata": {
        "colab": {
          "base_uri": "https://localhost:8080/"
        },
        "id": "0DEj6JFkw1Ul",
        "outputId": "5a95ad30-239e-4a9f-d981-892d6505c195"
      },
      "execution_count": 39,
      "outputs": [
        {
          "output_type": "stream",
          "name": "stdout",
          "text": [
            "type of tfidf_matrix <class 'scipy.sparse._csr.csr_matrix'>\n",
            "shape of tfidf_matrix (81, 1817)\n"
          ]
        }
      ]
    },
    {
      "cell_type": "code",
      "source": [
        "vocab = sorted(tfidf.vocabulary_.items())\n",
        "vocab[200:250]"
      ],
      "metadata": {
        "colab": {
          "base_uri": "https://localhost:8080/"
        },
        "id": "UTQGSF2ow1Ww",
        "outputId": "93c9dc72-6677-400e-abba-e76fc7bf1eaf"
      },
      "execution_count": 35,
      "outputs": [
        {
          "output_type": "execute_result",
          "data": {
            "text/plain": [
              "[('217', 200),\n",
              " ('218', 201),\n",
              " ('219', 202),\n",
              " ('21시간', 203),\n",
              " ('21일', 204),\n",
              " ('22', 205),\n",
              " ('220', 206),\n",
              " ('221', 207),\n",
              " ('222', 208),\n",
              " ('223', 209),\n",
              " ('224', 210),\n",
              " ('225', 211),\n",
              " ('226', 212),\n",
              " ('227', 213),\n",
              " ('228', 214),\n",
              " ('229', 215),\n",
              " ('22920', 216),\n",
              " ('22일', 217),\n",
              " ('23', 218),\n",
              " ('230', 219),\n",
              " ('231', 220),\n",
              " ('232', 221),\n",
              " ('233', 222),\n",
              " ('234', 223),\n",
              " ('235', 224),\n",
              " ('236', 225),\n",
              " ('237', 226),\n",
              " ('238', 227),\n",
              " ('239', 228),\n",
              " ('23만', 229),\n",
              " ('23분', 230),\n",
              " ('23일', 231),\n",
              " ('24', 232),\n",
              " ('240', 233),\n",
              " ('241', 234),\n",
              " ('242', 235),\n",
              " ('243', 236),\n",
              " ('244', 237),\n",
              " ('245', 238),\n",
              " ('246', 239),\n",
              " ('247', 240),\n",
              " ('248', 241),\n",
              " ('249', 242),\n",
              " ('24일', 243),\n",
              " ('25', 244),\n",
              " ('250', 245),\n",
              " ('251', 246),\n",
              " ('252', 247),\n",
              " ('253', 248),\n",
              " ('254', 249)]"
            ]
          },
          "metadata": {},
          "execution_count": 35
        }
      ]
    },
    {
      "cell_type": "code",
      "source": [
        "import pandas as pd\n",
        "tfidf_table = tfidf_matrix.toarray()\n",
        "\n",
        "keywords = []\n",
        "for weight in tfidf_table:\n",
        "    w_vec = list(enumerate(weight))\n",
        "    w_vec = sorted(w_vec, key=lambda x : x[1], reverse=True)\n",
        "    print(w_vec[:3])\n",
        "    keywords.append(w_vec)"
      ],
      "metadata": {
        "id": "mHiVs8VVw1da",
        "colab": {
          "base_uri": "https://localhost:8080/"
        },
        "outputId": "6cdcefd0-03bd-413d-f3ed-e5b3ee7002c0"
      },
      "execution_count": 37,
      "outputs": [
        {
          "output_type": "stream",
          "name": "stdout",
          "text": [
            "[(0, 0.0), (1, 0.0), (2, 0.0)]\n",
            "[(1391, 0.43040994970005003), (648, 0.23545937178853893), (1534, 0.23545937178853893)]\n",
            "[(0, 0.0), (1, 0.0), (2, 0.0)]\n",
            "[(0, 0.0), (1, 0.0), (2, 0.0)]\n",
            "[(992, 0.3872877516915684), (1062, 0.3756188709401807), (725, 0.36349476555184496)]\n",
            "[(1258, 0.4657067694327589), (967, 0.3987378610054744), (819, 0.28724496417505807)]\n",
            "[(0, 0.0), (1, 0.0), (2, 0.0)]\n",
            "[(1391, 0.28396815733538155), (1626, 0.20712954856405869), (1798, 0.19832613442216326)]\n",
            "[(1002, 0.2885615040862002), (1815, 0.2213052470608762), (950, 0.20369355674394765)]\n",
            "[(0, 0.0), (1, 0.0), (2, 0.0)]\n",
            "[(166, 1.0), (0, 0.0), (1, 0.0)]\n",
            "[(0, 0.0), (1, 0.0), (2, 0.0)]\n",
            "[(166, 0.8841507896795465), (1009, 0.4672016493004219), (0, 0.0)]\n",
            "[(827, 0.3676397262451394), (166, 0.24465121252317612), (1009, 0.1939173464442704)]\n",
            "[(0, 0.0), (1, 0.0), (2, 0.0)]\n",
            "[(168, 1.0), (0, 0.0), (1, 0.0)]\n",
            "[(0, 0.0), (1, 0.0), (2, 0.0)]\n",
            "[(1542, 0.6232477046451075), (168, 0.45760228042545714), (682, 0.4243724627089355)]\n",
            "[(992, 0.2287902741037084), (168, 0.2254442560868757), (1208, 0.22205506195210029)]\n",
            "[(0, 0.0), (1, 0.0), (2, 0.0)]\n",
            "[(170, 1.0), (0, 0.0), (1, 0.0)]\n",
            "[(0, 0.0), (1, 0.0), (2, 0.0)]\n",
            "[(1280, 0.460182471655708), (1439, 0.460182471655708), (1747, 0.3925110372833711)]\n",
            "[(682, 0.2689411324307577), (1382, 0.210858534747192), (1276, 0.20935021996489148)]\n",
            "[(0, 0.0), (1, 0.0), (2, 0.0)]\n",
            "[(1789, 0.21169895863502053), (1276, 0.20839749910285502), (1382, 0.2052345286689417)]\n",
            "[(0, 0.0), (1, 0.0), (2, 0.0)]\n",
            "[(172, 1.0), (0, 0.0), (1, 0.0)]\n",
            "[(0, 0.0), (1, 0.0), (2, 0.0)]\n",
            "[(1629, 0.4551834580767172), (1710, 0.4551834580767172), (387, 0.38824714605295635)]\n",
            "[(1789, 0.29771887628018995), (1276, 0.26051193807385314), (1248, 0.2321551674986347)]\n",
            "[(0, 0.0), (1, 0.0), (2, 0.0)]\n",
            "[(0, 0.0), (1, 0.0), (2, 0.0)]\n",
            "[(1259, 0.4202525109048993), (110, 0.40007462960546775), (172, 0.3682362951156705)]\n",
            "[(1582, 0.3040744695104463), (1248, 0.24325957560835706), (1276, 0.1791383360871809)]\n",
            "[(0, 0.0), (1, 0.0), (2, 0.0)]\n",
            "[(174, 1.0), (0, 0.0), (1, 0.0)]\n",
            "[(0, 0.0), (1, 0.0), (2, 0.0)]\n",
            "[(81, 0.4503811634984798), (678, 0.4503811634984798), (1583, 0.4039643656678752)]\n",
            "[(1276, 0.2725373517159596), (1582, 0.24287161273705657), (725, 0.19721536585054156)]\n",
            "[(0, 0.0), (1, 0.0), (2, 0.0)]\n",
            "[(0, 0.0), (1, 0.0), (2, 0.0)]\n",
            "[(1219, 0.4710013620134027), (148, 0.39809438058886293), (1583, 0.3850258344366221)]\n",
            "[(725, 0.26572375618053706), (1582, 0.2617920035907313), (1248, 0.17998200246862775)]\n",
            "[(0, 0.0), (1, 0.0), (2, 0.0)]\n",
            "[(1765, 0.26077068572562045), (970, 0.2512392756327575), (1009, 0.2456539023106924)]\n",
            "[(0, 0.0), (1, 0.0), (2, 0.0)]\n",
            "[(176, 1.0), (0, 0.0), (1, 0.0)]\n",
            "[(0, 0.0), (1, 0.0), (2, 0.0)]\n",
            "[(243, 0.5617873991273505), (176, 0.543345178108347), (18, 0.5266621598985575)]\n",
            "[(1276, 0.30303123862144266), (1009, 0.2002503953056437), (970, 0.18463340431255343)]\n",
            "[(0, 0.0), (1, 0.0), (2, 0.0)]\n",
            "[(0, 0.0), (1, 0.0), (2, 0.0)]\n",
            "[(155, 0.43004460416850426), (949, 0.41170645598456196), (49, 0.3818094666768115)]\n",
            "[(512, 0.3184970922201478), (1582, 0.2583247688116136), (600, 0.23662794376027385)]\n",
            "[(0, 0.0), (1, 0.0), (2, 0.0)]\n",
            "[(177, 1.0), (0, 0.0), (1, 0.0)]\n",
            "[(0, 0.0), (1, 0.0), (2, 0.0)]\n",
            "[(177, 0.4944107325839387), (94, 0.47332785608700867), (1103, 0.455065037769758)]\n",
            "[(1091, 0.5288188277470499), (358, 0.26440941387352496), (748, 0.26440941387352496)]\n",
            "[(0, 0.0), (1, 0.0), (2, 0.0)]\n",
            "[(1068, 0.27505126636840876), (445, 0.2496418190021571), (513, 0.2329715096176901)]\n",
            "[(0, 0.0), (1, 0.0), (2, 0.0)]\n",
            "[(1312, 0.30132137706962564), (606, 0.28017114715289465), (1176, 0.2754014795906293)]\n",
            "[(0, 0.0), (1, 0.0), (2, 0.0)]\n",
            "[(507, 0.29658230326058166), (514, 0.29658230326058166), (547, 0.29658230326058166)]\n",
            "[(0, 0.0), (1, 0.0), (2, 0.0)]\n",
            "[(179, 1.0), (0, 0.0), (1, 0.0)]\n",
            "[(286, 0.30868888210228373), (515, 0.3043517881645398), (564, 0.3043517881645398)]\n",
            "[(0, 0.0), (1, 0.0), (2, 0.0)]\n",
            "[(470, 0.32107308794126244), (1062, 0.2750231186047644), (1346, 0.23919609571174935)]\n",
            "[(0, 0.0), (1, 0.0), (2, 0.0)]\n",
            "[(180, 1.0), (0, 0.0), (1, 0.0)]\n",
            "[(180, 0.5823887874073763), (1276, 0.24675302288703838), (484, 0.1706990926348221)]\n",
            "[(0, 0.0), (1, 0.0), (2, 0.0)]\n",
            "[(863, 0.3469255805750339), (1174, 0.3469255805750339), (1812, 0.3469255805750339)]\n",
            "[(0, 0.0), (1, 0.0), (2, 0.0)]\n",
            "[(181, 1.0), (0, 0.0), (1, 0.0)]\n",
            "[(313, 0.5030931163503426), (181, 0.3361193779011105), (19, 0.28933384755760444)]\n",
            "[(0, 0.0), (1, 0.0), (2, 0.0)]\n",
            "[(1242, 0.5279667061557562), (1631, 0.4049112604805845), (703, 0.3876448592187973)]\n"
          ]
        }
      ]
    },
    {
      "cell_type": "markdown",
      "source": [
        "*문장 랭킹 *"
      ],
      "metadata": {
        "id": "vi3ss48UyJJY"
      }
    },
    {
      "cell_type": "code",
      "source": [
        "import numpy as np\n",
        "def tfidf_rank(tfidf_matrix):\n",
        "    rank = []\n",
        "    avg, stddev = 0.0, 0.0\n",
        "    #문서 별 tfidf 가중치의 합 계산 : (문서id, 가중치 합)\n",
        "    for idx, tfidf in enumerate(tfidf_matrix):\n",
        "        rank.append((idx, tfidf.sum()))\n",
        "\n",
        "    #가중치의 합이 높은 문서 순으로 정렬    \n",
        "    rank.sort(key=lambda x : x[1], reverse=True)\n",
        "\n",
        "    #tfidf의 평균과 표준편차 계산\n",
        "    tfidf_sum = [tfidf.sum() for tfidf in tfidf_matrix]\n",
        "    avg = np.mean(tfidf_sum)\n",
        "    stddev = np.std(tfidf_sum)\n",
        "    return rank, avg, stddev\n",
        "\n",
        "rank, avg, stddev = tfidf_rank(tfidf_matrix)\n",
        "\n",
        "print(rank[:2]) #랭크가 높은 것 2개만 출력\n",
        "print('avg = {}, stddev = {}'.format(avg, stddev))\n",
        "\n",
        "#랭크가 높은 문서 5개의 원문을 추출하여 rank_doc에 저장 후 출력\n",
        "rank_doc = [docs[doc_id[0]] for doc_id in rank[:5]] #5개의 문장만 뽑아보자\n",
        "rank_doc\n",
        "#avg = 평균 stddev = 표준편차"
      ],
      "metadata": {
        "colab": {
          "base_uri": "https://localhost:8080/"
        },
        "id": "2MNETYwew1f-",
        "outputId": "e4e1010e-3810-458f-8b0e-856724ac48cb"
      },
      "execution_count": 38,
      "outputs": [
        {
          "output_type": "stream",
          "name": "stdout",
          "text": [
            "[(45, 14.85117254752244), (39, 14.745533210124307)]\n",
            "avg = 3.406516182774626, stddev = 4.677309803355489\n"
          ]
        },
        {
          "output_type": "execute_result",
          "data": {
            "text/plain": [
              "['2017년 11월 13일 방탄소년단의 트위터 코리아 공식 계정은 2017년 11월 13일, 방탄소년단 그룹 공식 트위터(@BTS_twt) 팔로워 수가 대한민국 최초로 1000만을 기록했다고 발표했다.[166] 또 방탄소년단은 지난 9월에는 기네스 월드 레코드에서 발표한 \\'기네스 세계기록 2018\\'에 따르면, 방탄소년단은 \\'트위터 최다 활동\\' 남성 그룹 부문에서 리트윗 수 15만 2,112회를 기록해 기네스북에 오르며 막강한 영향력을 자랑했다.[2] 11월 19일 미국 캘리포니아주 로스앤젤레스 마이크로 소프트 공연장에서 열린 미국 3대 음악 시상식으로 꼽히는 아메리칸 뮤직 어워드에서 \"DNA\" 무대를 선보인 방탄소년단은 미국 유력 매체들의 극찬을 받으며 성공적인 미국 데뷔 무대를 가졌다. K-pop 그룹 최초이자 2017년 올해 아시아 뮤지션으로서는 유일하게 \\'퍼포머\\'로 초청받은 방탄소년단은 엔딩 직전 무대를 배정받는 대우를 받았고, 포브스, 빌보드, 할리우드 리포터, 팝크러시 등 여러 언론의 주목을 받았다.[167][168] 방탄소년단 멤버들은 레드카펫 인터뷰에서 미국 TV에 데뷔하는 것이 믿기지 않는다고 말하며 “\\'아미(팬클럽명)\\' 덕분에 이 자리에 설 수 있게 됐다”고 감사 인사를 했다.[169] 또 \\'AMA\\'s\\' 무대에 오른 이후, 미국 CBS 심야 토크쇼 《더 레이트 레이트 쇼 위드 제임스 코든》, NBC 토크쇼 《엘런 디제너러스 쇼》, ABC 토크쇼 《지미 키멜 라이브》에 연이어 출연했고,[170][171][172] ABC 신년맞이 쇼 《딕 클라크스 뉴 이어스 로킹 이브》 녹화를 마치며 미국 지상파 간판 토크쇼까지 섭렵했다. 11월 24일 방탄소년단은 세계적인 DJ 스티브 아오키와 래퍼 디자이너가 참여한 \"MIC Drop\"의 리믹스 버전을 발매한다고 발표했다.[173] 이 곡은 빌보드 핫 100 차트에서 28위로 첫 진입했다.[174] 이는 방탄소년단의 자체 기록이자 K-pop 그룹 최고의 기록이다.[175] 이외에도 닐슨 뮤직에 따르면 한국어로 출시된 이 싱글은 첫 주 980만 스트리밍과 4만 5000건의 다운로드를 기록했다. 또 디지털 송 세일즈차트에서는 4위를 차지, 앞서 \"DNA\"가 37위를 기록한 것에 이어 다시 한 번 높은 순위를 기록했으며, 스트리밍에서는 47위를 차지했다.[176] 영국 오피셜 싱글 차트에서 46위를 비롯해 K-pop 그룹 최초로 미국 아이튠즈 \\'톱 송 차트\\' 1위(이틀 연속 1위)는[177] 물론 북, 남미와 유럽, 아시아 등 60여 개국에서 1위를 차지했다.[150][178] 또한 1월 9일 미국 빌보드가 발표한 1월 13일자 최신 차트에 따르면 방탄소년단의 \"MIC Drop\" 리믹스가 메인 차트인 빌보드 핫 100 차트 66위에 이름을 올렸으며, 이는 지난주 82위에서 16계단이나 상승하며 순위를 역주행 한 결과로,[179][180] 현재까지(2018년 2월 6일 기준) 10주 연속 메인 차트인이라는 대기록을 세웠다.[181][182][183][184][185] 또 \"MIC Drop\" 리믹스 뮤직비디오는 11월 24일 오후 6시 공식 유튜브 채널을 통해 공개된 후 14시간 47분만인 25일 오전 8시47분경 1000만 뷰를 넘기며, 지난 9월 발매된 방탄소년단의 \"DNA\"를 이어 K-pop 곡 중 두 번째 최단기록을 달성했다.[186] 특히 이 곡은 미국 인기 드라마 《실리콘 밸리(Silicon Valley) 시즌 5》의 공식 티저 배경음악(BGM)으로 사용되며 다시 한 번 화제를 모았으며, 미국 케이블 채널 HBO는 방탄소년단의 \"MIC Drop\" 리믹스를 배경음악으로 삽입한 드라마의 공식 티저 영상을 유튜브를 통해 전격 공개했다.[187] 방탄소년단은 12월 1일 엠넷 아시안 뮤직 어워즈에서 올해의 가수상을 포함한 3관왕과 12월 2일 멜론 뮤직 어워즈에서 올해의 노래상을 포함한 5관왕을 차지했다.[188][189][190] 방탄소년단은 12월 8일부터 10일 사흘간 서울 고척스카이돔에서 6만명의 팬을 동원하며 뜨거운 열기 속에 ‘2017 BTS LIVE TRILOGY EPISODE III THE WINGS TOUR THE FINAL’을 마무리했다.[191][192][193][194][195] 12월 13일 방탄소년단의 \"DNA\"가 ‘2017 빌보드 베스트송 100(Billborad’s 100 Best Songs of 2017)’에 49번째로 소개되며 K-pop 가수로는 유일하게 방탄소년단이 선정됐다.[196] 방탄소년단은 2017년 12월 31일 미국 전역에 생중계 된 ABC의 신년맞이 쇼 《뉴 이어스 로킹 이브 2018》에 국내 가수로는 지난 2012년 싸이 이후 역대 두 번째로 출연하며 2017년을 화려하게 마무리했다.[197][198]',\n",
              " 'BTS는 2017년 1월 13일 경기도 일산 킨텍스에서 열린 골든디스크 시상식에서 음반 부문 시상식에서는 두 번째 정규 앨범 《WINGS》로 3년 연속 본상을 수상하는 등 글로벌 K팝 아티스트상 및 2관왕을 차지했으며,[110] 1월 19일 제26회 하이원 서울가요대상에서 3년 연속 본상과 동시에 최고 앨범상 및 4관을 차지하였다.[111] 2월 22일 제6회 가온차트 뮤직 어워드에서 올해의 가수상 음반부문 4분기 및 2관왕을 차지하였다.[112] 2017년 2월 13일 방탄소년단은 스페셜 앨범 《YOU NEVER WALK ALONE》을 발매하며 컴백하였다.[113] 이 앨범은 선주문량만 70만 장의 최다 선주문량 수치를 기록하였고, 유튜브 조회수 1,000만을 26시간 38분만에 달성시켜 K-pop 그룹의 역대 유튜브 조회수를 경신했다.[114] 또 이 앨범으로 미국 빌보드 200 차트에서 61위를 차지했다.[69] 타이틀곡인 \"봄날\"은 미국 아이튠즈에서 8위를 기록하며 K-pop 그룹 최초로 탑10에 진입하였고, \"Not Today\"는 11위, 그리고 나머지의 새로운 수록곡들도 모두 30위 안에 진입하였다.[115] 특히 \"봄날\"은 미국 빌보드 버블링 언더 핫 100 차트에서 15위를 차지하며 미국에서 프로모션이 전혀 진행되지 않은 상태였고, 쟁쟁한 경쟁곡들과는 다르게 데이터 취합 기간이 짧았음에도 불구하고 K-pop 가수로서 새 역사를 썼다. 이 차트는 빌보드 핫 100에 진입하지 못한 25위까지의 순위를 나타낸 차트로, 핫 100 차트와 동일하게 곡 판매량, 라디오 에어플레이, 스트리밍 데이터를 기반으로 선정된다.[116][117] 또한 \"봄날\" 뮤직비디오는 공개 후 26시간 38분 만에 1천만 뷰를 돌파하며 K-pop 그룹 사상 최단 기록을 세웠고, 이어 \"Not Today\" 뮤직비디오는 공개 21시간 38분 만에 유튜브 조회수 1029만 3859건을 기록하며 조회수 1000만 뷰를 돌파하며 자체 기록을 경신하였다.[118] 방탄소년단은 2017년 2월 18부터 19일까지 서울 고척스카이돔에서 ‘2017 BTS LIVE TRILOGY: EPISODE III. THE WINGS TOUR’을 개최했다. 이후 칠레 산티아고, 브라질 상파울루, 미국 뉴어크와 애너하임 등 4개국 5개 도시에서 총 7회 공연하며 월드 투어를 이어 나갔고,[119] 방탄소년단은 이에 앞서 2월 12일부터 13일까지 서울 고척스카이돔에서 열린 글로벌 공식 팬클럽 ‘A.R.M.Y’(아미) 3기 팬미팅에서 3만 8,000명을 동원했다.[120] 방탄소년단은 2017년 4월 아시아 가수로는 유일하게 글로벌 소셜 미디어 시상식인 미국 쇼티 어워즈에서 뮤직상 부문에서 상을 수상하였다.[121] 이후 5월에는 미국 라스베이거스 T-모바일 아레나에서 열린 미국의 최대 음악 시상식인 빌보드 뮤직 어워드에 공식 초청을 받아 K-pop 그룹 최초로 시상식에 참석했으며[122] 저스틴 비버, 셀레나 고메즈, 아리아나 그란데, 션 멘데스를 제치고 톱 소셜 아티스트상 부문을 수상하는 이변을 일으켰다.[123][124][125][126] 방탄소년단은 빌보드의 소셜 50 차트가 집계된 이후 3번째로 1위에 많이 오르며 아시아를 넘어 전세계 고른 인기를 증명해내며 K-pop 그룹으로는 최초의 쾌거를 이뤄냈다.[127] 이어 5월 30일 발매한 일본 두 번째 싱글 〈피, 땀, 눈물(血、汗、涙) (Japanese Ver.)〉은 발매 첫날 14만 1243 포인트를 기록해 데일리 싱글 차트 1위를 차지했고, 이날 타워레코드 온라인 데일리샵 종합 1위는 물론 타워레코드 시부야점 데일리 종합 차트 1위, HMV 아시아 음반 차트 1위와 아이튠즈 일본 뮤직비디오 차트 1위를 차지하였다.[128][129] 발매 첫 주 총 23만 8795 포인트를 기록하며 오리콘 주간 싱글 차트 1위에 올랐다. 해외 아티스트로는 통산 두 번째로 최단 기간(2년 11개월만) 20만 포인트 돌파 기록을 세웠으며, 해외 힙합 아티스트 최초 주간 싱글 차트 20만 포인트 돌파 기록도 세우는 등 방탄소년단의 일본 내 인기와 영향력을 입증했다.[130][131] 2017년 9월 2일 방탄소년단은 서울올림픽주경기장에서 열린 서태지 데뷔 25주년 기념 공연 ‘롯데카드 무브ː사운드트랙 vol.2 서태지 25’에 스페셜 게스트로 참여해 무대에 올랐다.[24] 서태지의 공식적인 초대를 받아 스페셜 게스트 자격으로 함께 무대에 오른 방탄소년단은 \"난 알아요\"부터 \"이 밤이 깊어가지만\", \"환상 속의 그대\", \"하여가\", ,\"너에게\", \"교실이데아\", \"컴백홈\" 등까지 서태지와 아이들 1집부터 4집까지 엄선한 노래를 화려한 퍼포먼스와 함께 구현해 뜨거운 환호를 받았다.[132]',\n",
              " '2017년 9월 18일 방탄소년단은 다섯 번째 미니 앨범 《LOVE YOURSELF 承 \\'Her\\'》를 발매하였다.[133] 타이틀곡은 \"DNA\"로 청춘의 풋풋하고 패기 넘치는 사랑의 마음을 표현한 곡이며, 일렉트로 팝을 기반으로 중독적인 휘파람 소리와 어쿠스틱한 기타 사운드가 어우러지면서 방탄소년단답지만 기존의 팀 컬러와 차별화되기도 하는 업그레이드된 사운드를 선사했다.[134] 방탄소년단은 9월 21일 엠넷에서 단독 컴백쇼 《COMEBACK SHOW - BTS DNA》를 열고 새 앨범의 무대를 최초로 공개했다.[135] 이 앨범은 가온차트가 11월 9일 발표한 2017년 10월 앨범 차트에 따르면 당시 국내에서만 판매량 137만장을 기록했는데 단일 앨범이 120만 장 이상 팔린 것은 2001년 11월 발표된 god 4집 앨범 144만 장 이후 16년 만이다.[136] 특히 이 앨범으로 발매 첫 주 7위(한국 가수 중 최고 순위이자 아시아 신기록)로 빌보드 200에 진입하며[137] 5개 앨범이 연속 빌보드 200 차트에 오르는 기염을 토했고 6주 연속 차트에 머무르다 순위권을 벗어난 지 한 달 만에 다시 이름을 올렸으며, 한국 가수 최초 4주 연속 미국 빌보드 메인 차트인 빌보드 핫 100과 빌보드 200에 동시 오르는 기염을 토했다.[138] 이후에도 빌보드 200에서 무려 21주 동안(2018년 3월 6일 기준) 머무르며 전 세계적인 인기를 증명했다.[139][140][141][142][143][144] 특히 \"DNA\"는 방탄소년단의 첫 번째 핫 100 진입 곡으로 빌보드 핫 100에서 85위로 진입한 데 이어 일주일 만에 67위로 뛰어오르면서 지난 2009년 원더걸스가 \"Nobody\"(영어 버전)로 76위로 세운 K-pop 그룹 최고 순위 또한 갈아치웠다.[145][146] 9월 23일 영국 오피셜 앨범차트 14위와 싱글 차트 90위에 동시 진입해 한국 가수 최고 기록을 세웠으며, 2주 연속 영국 오피셜 싱글과 앨범차트 동시에 이름을 올렸다.[147] 미국 빌보드와 양대 팝 차트로 평가 받는 영국 오피셜 차트에서 한국 가수가 앨범차트에 진입한 것은 2016년 10월 방탄소년단이 《WINGS》 앨범으로 세운 62위 기록이 최초로, 1년만에 다시 입성하며 자체 기록을 경신한 것이다.[148] 또한 타이틀곡 \"DNA\"의 싱글 차트 90위 진입은 방탄소년단이 한국 가수로서는 싸이 이후 두번째 기록이다.[149] 같은 날 스웨덴(sverigetopplistan) 13위, 벨기에(ULTRATOP BELGIAN CHARTS) 18위, 아일랜드(IRMA) 19위, 이탈리아(Top Of The Music) 56위, 독일(Offizielle Deutsche Charts) 57위 등 유럽 주요 국가의 앨범 차트에 대거 진입하는 기록을 동시에 세웠고, 73개국 아이튠즈 앨범차트에서 1위를 차지하는 등 월드 스타로서의 위상을 다시 한번 입증했다.[150][151] 또 \"DNA\" 뮤직 비디오는 9월 18일 오후 6시 공식 유튜브 채널을 통해 공개된 후 8시간 4분만인 19일 오전 2시 4분경 1000만 뷰를 넘기며 한국 가수 역대 최단 기간 유튜브 조회수 1000만 건을 돌파하는 대기록을 세웠고,[152] 9월 18일 오후 6시 20시간 48분만인 19일 14시 48분경 2000만 뷰를 넘기며 한국 가수 최단 기간 유튜브 조회수 1000만 뷰 돌파 기록에 이어 2000만 뷰 돌파도 세우며 연이어 신기록을 경신했다.[153] 10월 12일 오후 7시 23분경 유튜브 조회수 1억 뷰를 넘기며 24일 1시간 23분 만에 이룬 기록으로, K-pop 그룹 사상 최단 기간 1억 뷰를 돌파했고,[154] 3개월 만인 12월 17일 10시 30분경 유튜브 조회수 2억 뷰를 넘기며 K-pop 그룹 사상 최단기간 2억 뷰를 돌파했다.[155] 이후 2018년 3월 7일 오전 11시 19분경 3억 뷰를 기록했다. 이는 지난해 2017년 9월 18일 오후 6시 공개 이후 5개월여 만에 거둔 K-pop 그룹 사상 최단 기록이다.[156][157][158] 10월 12일 방탄소년단은 엠넷에서 콘서트를 연상시키는 특집 프로그램 《BTS 카운트다운》로 대한민국 활동을 성공적으로 마무리하며, 팬들에게 즐거움을 선사했다.[159] 지난 10월 16일 예약 판매를 시작한 일본 여덟 번째 싱글 〈MIC Drop/DNA/Crystal Snow〉은 11월 19일까지 30만장이 넘는 선주문량을 기록했고,[160] 12월 6일 발매 직후 6일 연속 일본 대표 차트 오리콘 데일리 차트 1위와 주간 차트 1위를 차지하며 인기를 입증했다. 일본어 신곡 \"Crystal Snow\"는 아이튠즈 글로벌 싱글 차트에 4위로 진입했고, 전세계 아이튠즈 탑200 싱글 차트 중 스웨덴, 슬로베니아, 홍콩, 필리핀, 태국, 베트남, 사우디아라비아, 엘살바도르, 니카라과, 아랍에미레이트 등 10개국 차트에서 1위를 기록했다.[161] 방탄소년단은 2017년 연말 발표된 \\'오리콘 싱글 연간 차트 2017\\'에서 13위와 22위(지난 5월 10일에 발매한 일곱 번째 일본 싱글 \"피 땀 눈물\")에 올랐다. 이는 한국 가수 중 1위와 2위를 모두 차지한 것으로, 이는 역대 K팝 가수 중 최고 순위다.[162][163] 또한 2018년 1월 15일 일본 레코드협회가 발표한 \\'골드 디스크 인정 작품\\'에 따르면 방탄소년단의 여덟 번째 일본 싱글 \"MIC Drop/DNA/Crystal Snow\"은 50만장 이상의 판매량을 기록해 \\'더블 플래티넘\\'을 기록하였다. 2017년 일본에서 싱글 앨범을 발매한 해외 아티스트 중 \\'더블 플래티넘\\'을 달성한 아티스트는 방탄소년단이 유일하다.[164][165]',\n",
              " '2015년 1월 15일 방탄소년단은 중국 북경 완스다 중신에서 열린 골든디스크 시상식 음반 부문 시상식에서 미니 앨범 《Skool Luv Affair》과 첫 번째 정규 앨범 《DARK&WILD》으로 첫 본상을 수상했으며, 1월 22일 올림픽공원 체조경기장에서 열린 제26회 하이원 서울가요대상에서 첫 본상과 1월 28일 제4회 가온차트 뮤직 어워드에서 올해의 발견 월드루키상을 수상하였다.[47] 방탄소년단은 2015년 3월 28일과 29일 양일간 서울 올림픽공원 올림픽홀에서 두 번째 단독 콘서트 ‘2015 BTS LIVE TRILOGY: EPISODE I. BTS BEGINS’를 개최했다. 방탄소년단은 지난 2014년 10월 개최한 첫 단독 콘서트 ‘BTS 2014 LIVE TRILOGY: EPISODE Ⅱ. THE RED BULLET’를 시작으로 팀의 탄생과 성장기를 주제로 하는 아이돌 최초 3부작(BTS LIVE TRILOGY) 공연을 진행하였고, 이번 두 번째 콘서트는 EPISODE I에 해당하는 공연이다. ‘방탄소년단의 시작’(BTS BEGINS)을 주제로 10대 소년들이 힙합 아래 하나로 모여 방탄소년단으로서 거듭나는 과정을 보여주었다.[48][49] 방탄소년단은 4월 29일 세 번째 미니 앨범 《화양연화 pt.1》를 발매하며 전환점을 마련했다.[50] 이 앨범은 방탄소년단 전 멤버가 작사, 작곡에 참여했으며, 방탄소년단의 청춘 3부작의 시작점으로 청춘이 느끼는 고민과 고뇌, 갈등, 고통 등을 담아냈다. 타이틀 곡 \"I NEED U\"는 청춘의 사랑에 대한 노래로, 끝나가는 사랑을 붙잡으려는 마음이 담겨있다.[51] 방탄소년단은 데뷔 이래 처음으로 각종 음악 방송 및 차트에서 1위에 오르며 음악 방송 5관왕을 따냈고, 현재까지 30만 장(2017년 기준)을 판매하였다.[52][53][54] 이후 방탄소년단은 일본, 미국 등으로 활동 영역을 넓혔다. 6월 1일, 일본 네 번째 싱글 〈FOR YOU〉를 발매해 오리콘 싱글 주간 차트 1위에 오른다.[55] 방탄소년단은 2015년 11월 27일부터 29일까지 사흘간 서울 올림픽공원 SK올림픽핸드볼경기장에서 열린 세 번째 단독 콘서트 ‘2015 BTS LIVE «화양연화 on stage»를 성황리에 개최하였다.[56][57][58][59] 또한 방탄소년단은 12월 8일과 9일 일본 요코하마 아레나, 12월 26일부터 28일까지 고베 월드 기념홀에서 총 5회에 걸쳐 개최하는 투어 콘서트 ‘2015 BTS LIVE «화양연화 on stage» ~Japan Edition~’를 전석 매진 시켰다.[60][61] 하지만 소속사 빅히트 엔터테인먼트 관계자는 12월 27일 공식 트위터에 “27일과 28일 고베 월드기념홀에서 개최할 예정이었던 \\'2015 방탄소년단 라이브 화양연화 온 스테이지 재팬 에디션\\' 공연을 취소하게 됐다. 공연 전 슈가와 뷔가 어지럼증을 호소해 리허설을 중단하고 현지 병원으로 신속히 이동하여 전문 의료진의 진료를 받았다. CT 촬영 결과 큰 이상이 발견되진 않았으나 공연을 하다가 격렬한 움직임으로 인한 어지럼증일 수 있다는 진단과 함께 추후 상태를 지켜봐야 한다는 소견을 받았다”라고 밝히며 이어 “두 멤버는 소중한 시간을 내어 공연장을 찾아주시는 팬들을 만나기 위해 무대에 오르고 싶다는 강력한 의지를 표했으나 의료진의 권고에 따라 현재 휴식을 취하고 있으며 다행히 빠른 호전 상태를 보이고 있다. 그러나 멤버 전원이 참석하지 않는 공연을 진행하여 부족한 모습을 보여드릴 수 없다고 판단하여 오늘 공연을 포함, 고베 콘서트의 일정을 모두 중단키로 결정했다. 멤버들의 건강 이상으로 공연이 취소됐다”고 설명했다. 또한 공연 취소에 대해 공식적으로 사과하며, 슈가와 뷔는 귀국 후 대한민국에서 정밀검사를 받을 예정으로 취소된 공연의 티켓은 전액 환불 조치된다고 입장을 전했다.[62]',\n",
              " '이후 6월부터 8월까지 대만과 마카오, 중국(난징, 베이징), 일본(오사카, 나고야, 도쿄), 필리핀(마닐라), 태국(방콕) 등 총 7개국 10개 도시에서 13회에 걸쳐 진행되는 아시아 투어에 돌입하였다.[88] 2016년 9월 8일, 일본 두 번째 정규 앨범 《YOUTH》를 발매하며 오리콘 앨범 주간 차트 1위에 올랐다.[89][90] 트위터 내에서 가장 많이 공유되거나 언급된 노래를 기준으로 선정하는 트위터 톱 트랙 차트(10월 1일 기준)에서 《화양연화 Young Forever》의 수록곡 \"Save Me\"와 \"불타오르네\"는 10주 이상 순위에 들었다.[91] 방탄소년단은 10월 10일 두 번째 정규 앨범 《WINGS》를 발매하며 활동을 이어갔다.[92] 이 앨범은 《DARK&WILD》이후 2년 만에 발표하는 정규 앨범으로 유혹을 만난 소년들의 갈등과 성장에 대한 이야기를 담았으며, 타이틀곡 \"피 땀 눈물\"은 뭄바톤 트랩(Moombahton Trap) 장르의 곡이다.[93] 데뷔 이후 처음으로 멤버 전원의 솔로곡이 수록 되었다.[94] 또한 대한민국 주요 음원 차트 석권과 음악 방송 프로그램 6관왕을 달성하였으며,[95] 2016년 10월부터 12월 두 달간 총 75만 장의 판매고로 역대 최다 판매 신기록을 경신하였다.[96] 특히 이 판매량은 가온차트 집계 사상 최고 판매량 기록을 세웠다.[97] 2017년 기준 84만 장 이상이 팔렸다. 이들은 이 앨범으로 미국 빌보드 200 차트에서 26위에 랭크되었다. 이외에도 빌보드 월드 앨범 차트, 빌보드 디지털 송 차트 1위를 차지했다.[98][99] 또한 대한민국 가수 최초로 영국 오피셜 앨범차트 62위를 비롯해 인디 앨범차트 16위에 진입하였다.[100] 이외에도 일본 음반 매장 타워레코드 종합 앨범 최신 주간 차트 1위, 중국 동영상 사이트 인위에타이 V차트 한국 지역 주간 순위 1위, 전 세계 아이튠즈 97개국 차트 1위, 미국 애플뮤직 차트 1위에 올랐다.[101][102] 2016년 7월 31일 제44회 한국방송대상 가수상과[103] 10월 27일 문화체육관광부와 한국콘텐츠진흥원 주최로 서울 국립극장 해오름 극장에서 열린 2017 대한민국 대중문화예술상 시상식에서 데뷔 3년만에 문화체육관광부 장관 표창을 수상하였다.[104] 11월 19일 멜론 뮤직 어워드 올해의 앨범상과[105] 12월 2일 엠넷 아시안 뮤직 어워드 올해의 가수상을 연이어 수상하며 데뷔 4년 만에 첫 대상을 수상하였다.[106][107] 방탄소년단은 11월 12일과 13일 양일간 서울 고척스카이돔에서 공식 팬클럽 ‘A.R.M.Y’(아미) 3기 팬미팅 《2016 BTS 3RD MUSTER [ARMY.ZIP+]》을 개최하며 3만 8천여 명의 관객을 동원하며 세 번째 공식 글로벌 팬미팅을 마쳤다.[108][109]']"
            ]
          },
          "metadata": {},
          "execution_count": 38
        }
      ]
    },
    {
      "cell_type": "code",
      "source": [],
      "metadata": {
        "id": "Qi2pXGKKw1k1"
      },
      "execution_count": null,
      "outputs": []
    },
    {
      "cell_type": "code",
      "source": [],
      "metadata": {
        "id": "KjQdSzKAw1nJ"
      },
      "execution_count": null,
      "outputs": []
    },
    {
      "cell_type": "code",
      "source": [],
      "metadata": {
        "id": "MaS1ZdORw1py"
      },
      "execution_count": null,
      "outputs": []
    },
    {
      "cell_type": "code",
      "source": [],
      "metadata": {
        "id": "XiTl2UYmw1sp"
      },
      "execution_count": null,
      "outputs": []
    },
    {
      "cell_type": "code",
      "source": [],
      "metadata": {
        "id": "0f11qzY1w1vC"
      },
      "execution_count": null,
      "outputs": []
    },
    {
      "cell_type": "code",
      "source": [],
      "metadata": {
        "id": "24QJ8eLkw1xX"
      },
      "execution_count": null,
      "outputs": []
    },
    {
      "cell_type": "code",
      "source": [],
      "metadata": {
        "id": "Rp02FIrYw1zs"
      },
      "execution_count": null,
      "outputs": []
    },
    {
      "cell_type": "code",
      "source": [],
      "metadata": {
        "id": "KfQyDiUvw12H"
      },
      "execution_count": null,
      "outputs": []
    },
    {
      "cell_type": "code",
      "source": [],
      "metadata": {
        "id": "oT7R-bTNtHTA"
      },
      "execution_count": null,
      "outputs": []
    }
  ]
}